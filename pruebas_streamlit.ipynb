{
 "cells": [
  {
   "cell_type": "code",
   "execution_count": 6,
   "metadata": {},
   "outputs": [
    {
     "name": "stdout",
     "output_type": "stream",
     "text": [
      "Requirement already satisfied: rembg in c:\\users\\ramon\\miniconda3\\envs\\streamlit\\lib\\site-packages (2.0.50)\n",
      "Requirement already satisfied: numpy in c:\\users\\ramon\\miniconda3\\envs\\streamlit\\lib\\site-packages (from rembg) (1.25.2)\n",
      "Requirement already satisfied: onnxruntime in c:\\users\\ramon\\miniconda3\\envs\\streamlit\\lib\\site-packages (from rembg) (1.16.0)\n",
      "Requirement already satisfied: opencv-python-headless in c:\\users\\ramon\\miniconda3\\envs\\streamlit\\lib\\site-packages (from rembg) (4.8.0.76)\n",
      "Requirement already satisfied: pillow in c:\\users\\ramon\\miniconda3\\envs\\streamlit\\lib\\site-packages (from rembg) (10.0.1)\n",
      "Requirement already satisfied: pooch in c:\\users\\ramon\\miniconda3\\envs\\streamlit\\lib\\site-packages (from rembg) (1.7.0)\n",
      "Requirement already satisfied: pymatting in c:\\users\\ramon\\miniconda3\\envs\\streamlit\\lib\\site-packages (from rembg) (1.1.8)\n",
      "Requirement already satisfied: scikit-image in c:\\users\\ramon\\miniconda3\\envs\\streamlit\\lib\\site-packages (from rembg) (0.21.0)\n",
      "Requirement already satisfied: scipy in c:\\users\\ramon\\miniconda3\\envs\\streamlit\\lib\\site-packages (from rembg) (1.11.2)\n",
      "Requirement already satisfied: tqdm in c:\\users\\ramon\\miniconda3\\envs\\streamlit\\lib\\site-packages (from rembg) (4.66.1)\n",
      "Requirement already satisfied: coloredlogs in c:\\users\\ramon\\miniconda3\\envs\\streamlit\\lib\\site-packages (from onnxruntime->rembg) (15.0.1)\n",
      "Requirement already satisfied: flatbuffers in c:\\users\\ramon\\miniconda3\\envs\\streamlit\\lib\\site-packages (from onnxruntime->rembg) (23.5.26)\n",
      "Requirement already satisfied: packaging in c:\\users\\ramon\\miniconda3\\envs\\streamlit\\lib\\site-packages (from onnxruntime->rembg) (23.1)\n",
      "Requirement already satisfied: protobuf in c:\\users\\ramon\\miniconda3\\envs\\streamlit\\lib\\site-packages (from onnxruntime->rembg) (4.24.3)\n",
      "Requirement already satisfied: sympy in c:\\users\\ramon\\miniconda3\\envs\\streamlit\\lib\\site-packages (from onnxruntime->rembg) (1.12)\n",
      "Requirement already satisfied: platformdirs>=2.5.0 in c:\\users\\ramon\\miniconda3\\envs\\streamlit\\lib\\site-packages (from pooch->rembg) (3.10.0)\n",
      "Requirement already satisfied: requests>=2.19.0 in c:\\users\\ramon\\miniconda3\\envs\\streamlit\\lib\\site-packages (from pooch->rembg) (2.31.0)\n",
      "Requirement already satisfied: numba!=0.49.0 in c:\\users\\ramon\\miniconda3\\envs\\streamlit\\lib\\site-packages (from pymatting->rembg) (0.58.0)\n",
      "Requirement already satisfied: networkx>=2.8 in c:\\users\\ramon\\miniconda3\\envs\\streamlit\\lib\\site-packages (from scikit-image->rembg) (3.1)\n",
      "Requirement already satisfied: imageio>=2.27 in c:\\users\\ramon\\miniconda3\\envs\\streamlit\\lib\\site-packages (from scikit-image->rembg) (2.31.3)\n",
      "Requirement already satisfied: tifffile>=2022.8.12 in c:\\users\\ramon\\miniconda3\\envs\\streamlit\\lib\\site-packages (from scikit-image->rembg) (2023.9.18)\n",
      "Requirement already satisfied: PyWavelets>=1.1.1 in c:\\users\\ramon\\miniconda3\\envs\\streamlit\\lib\\site-packages (from scikit-image->rembg) (1.4.1)\n",
      "Requirement already satisfied: lazy_loader>=0.2 in c:\\users\\ramon\\miniconda3\\envs\\streamlit\\lib\\site-packages (from scikit-image->rembg) (0.3)\n",
      "Requirement already satisfied: colorama in c:\\users\\ramon\\miniconda3\\envs\\streamlit\\lib\\site-packages (from tqdm->rembg) (0.4.6)\n",
      "Requirement already satisfied: llvmlite<0.42,>=0.41.0dev0 in c:\\users\\ramon\\miniconda3\\envs\\streamlit\\lib\\site-packages (from numba!=0.49.0->pymatting->rembg) (0.41.0)\n",
      "Requirement already satisfied: charset-normalizer<4,>=2 in c:\\users\\ramon\\miniconda3\\envs\\streamlit\\lib\\site-packages (from requests>=2.19.0->pooch->rembg) (3.2.0)\n",
      "Requirement already satisfied: idna<4,>=2.5 in c:\\users\\ramon\\miniconda3\\envs\\streamlit\\lib\\site-packages (from requests>=2.19.0->pooch->rembg) (3.4)\n",
      "Requirement already satisfied: urllib3<3,>=1.21.1 in c:\\users\\ramon\\miniconda3\\envs\\streamlit\\lib\\site-packages (from requests>=2.19.0->pooch->rembg) (2.0.5)\n",
      "Requirement already satisfied: certifi>=2017.4.17 in c:\\users\\ramon\\miniconda3\\envs\\streamlit\\lib\\site-packages (from requests>=2.19.0->pooch->rembg) (2023.7.22)\n",
      "Requirement already satisfied: humanfriendly>=9.1 in c:\\users\\ramon\\miniconda3\\envs\\streamlit\\lib\\site-packages (from coloredlogs->onnxruntime->rembg) (10.0)\n",
      "Requirement already satisfied: mpmath>=0.19 in c:\\users\\ramon\\miniconda3\\envs\\streamlit\\lib\\site-packages (from sympy->onnxruntime->rembg) (1.3.0)\n",
      "Requirement already satisfied: pyreadline3 in c:\\users\\ramon\\miniconda3\\envs\\streamlit\\lib\\site-packages (from humanfriendly>=9.1->coloredlogs->onnxruntime->rembg) (3.4.1)\n"
     ]
    }
   ],
   "source": [
    "!pip install rembg"
   ]
  },
  {
   "cell_type": "code",
   "execution_count": 3,
   "metadata": {},
   "outputs": [
    {
     "name": "stderr",
     "output_type": "stream",
     "text": [
      "ERROR: Could not find a version that satisfies the requirement gameboard (from versions: none)\n",
      "ERROR: No matching distribution found for gameboard\n"
     ]
    }
   ],
   "source": [
    "!pip install gameboard"
   ]
  },
  {
   "cell_type": "code",
   "execution_count": 3,
   "metadata": {},
   "outputs": [],
   "source": [
    "import pandas as pd\n",
    "import numpy as np"
   ]
  },
  {
   "cell_type": "code",
   "execution_count": 4,
   "metadata": {},
   "outputs": [],
   "source": [
    "y_test = np.array([1,2,3])\n",
    "y_pred = np.array([1.2, 2.1, 3.5])"
   ]
  },
  {
   "cell_type": "code",
   "execution_count": 5,
   "metadata": {},
   "outputs": [
    {
     "data": {
      "text/plain": [
       "0.13888888888888887"
      ]
     },
     "execution_count": 5,
     "metadata": {},
     "output_type": "execute_result"
    }
   ],
   "source": [
    "mean_absolute_percentage_error(y_test, y_pred)"
   ]
  },
  {
   "cell_type": "code",
   "execution_count": 4,
   "metadata": {},
   "outputs": [
    {
     "data": {
      "text/html": [
       "<div>\n",
       "<style scoped>\n",
       "    .dataframe tbody tr th:only-of-type {\n",
       "        vertical-align: middle;\n",
       "    }\n",
       "\n",
       "    .dataframe tbody tr th {\n",
       "        vertical-align: top;\n",
       "    }\n",
       "\n",
       "    .dataframe thead th {\n",
       "        text-align: right;\n",
       "    }\n",
       "</style>\n",
       "<table border=\"1\" class=\"dataframe\">\n",
       "  <thead>\n",
       "    <tr style=\"text-align: right;\">\n",
       "      <th></th>\n",
       "      <th>first column</th>\n",
       "      <th>second column</th>\n",
       "    </tr>\n",
       "  </thead>\n",
       "  <tbody>\n",
       "    <tr>\n",
       "      <th>0</th>\n",
       "      <td>1</td>\n",
       "      <td>10</td>\n",
       "    </tr>\n",
       "    <tr>\n",
       "      <th>1</th>\n",
       "      <td>2</td>\n",
       "      <td>20</td>\n",
       "    </tr>\n",
       "    <tr>\n",
       "      <th>2</th>\n",
       "      <td>3</td>\n",
       "      <td>30</td>\n",
       "    </tr>\n",
       "    <tr>\n",
       "      <th>3</th>\n",
       "      <td>4</td>\n",
       "      <td>40</td>\n",
       "    </tr>\n",
       "  </tbody>\n",
       "</table>\n",
       "</div>"
      ],
      "text/plain": [
       "   first column  second column\n",
       "0             1             10\n",
       "1             2             20\n",
       "2             3             30\n",
       "3             4             40"
      ]
     },
     "execution_count": 4,
     "metadata": {},
     "output_type": "execute_result"
    }
   ],
   "source": [
    "\"\"\"\n",
    "# My first app\n",
    "Here's our first attempt at using data to create a table:\n",
    "\"\"\"\n",
    "\n",
    "import streamlit as st\n",
    "import pandas as pd\n",
    "df = pd.DataFrame({\n",
    "  'first column': [1, 2, 3, 4],\n",
    "  'second column': [10, 20, 30, 40]\n",
    "})\n",
    "\n",
    "df"
   ]
  },
  {
   "cell_type": "code",
   "execution_count": 7,
   "metadata": {},
   "outputs": [
    {
     "ename": "AttributeError",
     "evalue": "module 'streamlit' has no attribute 'write'",
     "output_type": "error",
     "traceback": [
      "\u001b[1;31m---------------------------------------------------------------------------\u001b[0m",
      "\u001b[1;31mAttributeError\u001b[0m                            Traceback (most recent call last)",
      "\u001b[1;32m~\\AppData\\Local\\Temp\\ipykernel_1812\\3830054443.py\u001b[0m in \u001b[0;36m<module>\u001b[1;34m\u001b[0m\n\u001b[1;32m----> 1\u001b[1;33m \u001b[0mst\u001b[0m\u001b[1;33m.\u001b[0m\u001b[0mwrite\u001b[0m\u001b[1;33m(\u001b[0m\u001b[1;34m'Hello, *World!* :sunglasses:'\u001b[0m\u001b[1;33m)\u001b[0m\u001b[1;33m\u001b[0m\u001b[1;33m\u001b[0m\u001b[0m\n\u001b[0m",
      "\u001b[1;31mAttributeError\u001b[0m: module 'streamlit' has no attribute 'write'"
     ]
    }
   ],
   "source": [
    "st.write('Hello, *World!* :sunglasses:')"
   ]
  }
 ],
 "metadata": {
  "kernelspec": {
   "display_name": "Python 3",
   "language": "python",
   "name": "python3"
  },
  "language_info": {
   "codemirror_mode": {
    "name": "ipython",
    "version": 3
   },
   "file_extension": ".py",
   "mimetype": "text/x-python",
   "name": "python",
   "nbconvert_exporter": "python",
   "pygments_lexer": "ipython3",
   "version": "3.9.5"
  },
  "orig_nbformat": 4
 },
 "nbformat": 4,
 "nbformat_minor": 2
}
